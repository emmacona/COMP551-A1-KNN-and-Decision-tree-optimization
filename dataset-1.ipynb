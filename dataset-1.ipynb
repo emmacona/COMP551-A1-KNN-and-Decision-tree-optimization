{
 "cells": [
  {
   "cell_type": "markdown",
   "source": [
    "# Preprocessing and visualization of Dataset #1: Adults"
   ],
   "metadata": {}
  },
  {
   "cell_type": "code",
   "execution_count": 1,
   "source": [
    "import numpy as np\r\n",
    "import pandas as pd\r\n",
    "import matplotlib.pyplot as plt\r\n",
    "import sklearn\r\n",
    "from sklearn.model_selection import train_test_split\r\n",
    "from sklearn import datasets, neighbors"
   ],
   "outputs": [],
   "metadata": {}
  },
  {
   "cell_type": "code",
   "execution_count": 2,
   "source": [
    "# 1. Load the datasets into Pandas dataframes\r\n",
    "names1=['age', 'workclass', 'fnlwgt', 'education', 'education-num', 'marital-status', 'occupation', 'relationship', 'race', 'sex', 'capital-gain', 'capital-loss', 'hours-per-week', 'native-country', 'over-50K']\r\n",
    "dataset1_train = pd.read_csv('adult_train.csv', index_col=False, names=names1, sep=',\\s', na_values=['?'], engine='python')\r\n",
    "dataset1_test = pd.read_csv('adult_test.csv', index_col=False, names=names1, sep=',\\s', na_values=['?', 'nan', '|1x3 Cross validator'], engine='python')\r\n",
    "\r\n",
    "print(dataset1_train.shape)"
   ],
   "outputs": [
    {
     "output_type": "stream",
     "name": "stdout",
     "text": [
      "(32561, 15)\n"
     ]
    }
   ],
   "metadata": {}
  },
  {
   "cell_type": "markdown",
   "source": [
    "## Clean the data"
   ],
   "metadata": {}
  },
  {
   "cell_type": "code",
   "execution_count": 3,
   "source": [
    "# Remove instances with missing/invalid data entries\r\n",
    "dataset1_train.dropna(axis=0, how='any', inplace=True)\r\n",
    "dataset1_test.dropna(axis=0, how='any', inplace=True)\r\n",
    "print(dataset1_train.shape)"
   ],
   "outputs": [
    {
     "output_type": "stream",
     "name": "stdout",
     "text": [
      "(30162, 15)\n"
     ]
    }
   ],
   "metadata": {}
  },
  {
   "cell_type": "code",
   "execution_count": 4,
   "source": [
    "# Encode Over 50K as 1\n",
    "dataset1_train['over-50K'] = dataset1_train['over-50K'].map({'>50K': 1, '<=50K': 0})\n",
    "dataset1_test['over-50K'] = dataset1_test['over-50K'].map({'>50K': 1, '<=50K': 0})\n",
    "\n",
    "# Encode Male as 1\n",
    "dataset1_train['sex'] = dataset1_train['sex'].map({'Male': 1, 'Female': 0})\n",
    "dataset1_test['sex'] = dataset1_test['sex'].map({'Male': 1, 'Female': 0})"
   ],
   "outputs": [],
   "metadata": {}
  },
  {
   "cell_type": "code",
   "execution_count": 5,
   "source": [
    "print(dataset1_train['native-country'].describe()) "
   ],
   "outputs": [
    {
     "output_type": "stream",
     "name": "stdout",
     "text": [
      "count             30162\n",
      "unique               41\n",
      "top       United-States\n",
      "freq              27504\n",
      "Name: native-country, dtype: object\n"
     ]
    }
   ],
   "metadata": {}
  },
  {
   "cell_type": "markdown",
   "source": [
    "Since 91% of native-country data is US, we will categorize this column as \"US\" and \"non-US\"."
   ],
   "metadata": {}
  },
  {
   "cell_type": "code",
   "execution_count": 6,
   "source": [
    "# Encode US as 1 and non-US as 0\r\n",
    "dataset1_train['native-country'] = np.where(dataset1_train['native-country']=='United-States', 1, 0)\r\n",
    "dataset1_test['native-country'] = np.where(dataset1_test['native-country']=='United-States', 1, 0)"
   ],
   "outputs": [],
   "metadata": {}
  },
  {
   "cell_type": "code",
   "execution_count": 7,
   "source": [
    "# Correlation\r\n",
    "correlations = dataset1_train.corr(method=\"pearson\")\r\n",
    "print(correlations)"
   ],
   "outputs": [
    {
     "output_type": "stream",
     "name": "stdout",
     "text": [
      "                     age    fnlwgt  education-num       sex  capital-gain  \\\n",
      "age             1.000000 -0.076511       0.043526  0.081993      0.080154   \n",
      "fnlwgt         -0.076511  1.000000      -0.044992  0.025362      0.000422   \n",
      "education-num   0.043526 -0.044992       1.000000  0.006157      0.124416   \n",
      "sex             0.081993  0.025362       0.006157  1.000000      0.048814   \n",
      "capital-gain    0.080154  0.000422       0.124416  0.048814      1.000000   \n",
      "capital-loss    0.060165 -0.009750       0.079646  0.047011     -0.032229   \n",
      "hours-per-week  0.101599 -0.022886       0.152522  0.231268      0.080432   \n",
      "native-country  0.016259 -0.083390       0.127207 -0.003006      0.012375   \n",
      "over-50K        0.241998 -0.008957       0.335286  0.216699      0.221196   \n",
      "\n",
      "                capital-loss  hours-per-week  native-country  over-50K  \n",
      "age                 0.060165        0.101599        0.016259  0.241998  \n",
      "fnlwgt             -0.009750       -0.022886       -0.083390 -0.008957  \n",
      "education-num       0.079646        0.152522        0.127207  0.335286  \n",
      "sex                 0.047011        0.231268       -0.003006  0.216699  \n",
      "capital-gain       -0.032229        0.080432        0.012375  0.221196  \n",
      "capital-loss        1.000000        0.052417        0.015119  0.150053  \n",
      "hours-per-week      0.052417        1.000000        0.010673  0.229480  \n",
      "native-country      0.015119        0.010673        1.000000  0.040204  \n",
      "over-50K            0.150053        0.229480        0.040204  1.000000  \n"
     ]
    }
   ],
   "metadata": {}
  },
  {
   "cell_type": "markdown",
   "source": [
    "From the above correlations, we can interpret that 'fnlgwt' and 'native-country' are not relevant to predicting the salary as their correlation is below 0.09."
   ],
   "metadata": {}
  },
  {
   "cell_type": "code",
   "execution_count": 8,
   "source": [
    "# Remove uncorrelated columns\r\n",
    "dataset1_train = dataset1_train.drop(columns=['fnlwgt', 'native-country'])\r\n",
    "dataset1_test = dataset1_test.drop(columns=['fnlwgt', 'native-country'])"
   ],
   "outputs": [],
   "metadata": {}
  },
  {
   "cell_type": "code",
   "execution_count": 9,
   "source": [
    "# Visualize age distribution\r\n",
    "dataset1_train.age.plot(kind='kde')\r\n",
    "plt.title('Age distribution')\r\n",
    "plt.show()\r\n",
    "\r\n",
    "# Visualize all numerical categories\r\n",
    "dataset1_train.hist(figsize=(20, 14))"
   ],
   "outputs": [
    {
     "output_type": "display_data",
     "data": {
      "image/png": "[encoded data removed]",
      "text/plain": [
       "<Figure size 432x288 with 1 Axes>"
      ]
     },
     "metadata": {
      "needs_background": "light"
     }
    },
    {
     "output_type": "execute_result",
     "data": {
      "text/plain": [
       "array([[<AxesSubplot:title={'center':'age'}>,\n",
       "        <AxesSubplot:title={'center':'education-num'}>,\n",
       "        <AxesSubplot:title={'center':'sex'}>],\n",
       "       [<AxesSubplot:title={'center':'capital-gain'}>,\n",
       "        <AxesSubplot:title={'center':'capital-loss'}>,\n",
       "        <AxesSubplot:title={'center':'hours-per-week'}>],\n",
       "       [<AxesSubplot:title={'center':'over-50K'}>, <AxesSubplot:>,\n",
       "        <AxesSubplot:>]], dtype=object)"
      ]
     },
     "metadata": {},
     "execution_count": 9
    },
    {
     "output_type": "display_data",
     "data": {
      "image/png": "[encoded data removed]",
      "text/plain": [
       "<Figure size 1440x1008 with 9 Axes>"
      ]
     },
     "metadata": {
      "needs_background": "light"
     }
    }
   ],
   "metadata": {}
  },
  {
   "cell_type": "code",
   "execution_count": 10,
   "source": [
    "# Visualize categorical data\r\n",
    "dataset1_train['education'].value_counts()\r\n",
    "pd.crosstab(dataset1_train['education-num'], columns=dataset1_train['education'])\r\n",
    "print(dataset1_train.shape)\r\n",
    "\r\n",
    "# Remove education-num as it gives no more information than education\r\n",
    "dataset1_train = dataset1_train.drop(columns='education-num')\r\n",
    "dataset1_test = dataset1_test.drop(columns='education-num')\r\n",
    "print(dataset1_train.shape)"
   ],
   "outputs": [
    {
     "output_type": "stream",
     "name": "stdout",
     "text": [
      "(30162, 13)\n",
      "(30162, 12)\n"
     ]
    }
   ],
   "metadata": {}
  },
  {
   "cell_type": "markdown",
   "source": [
    "## One-hot encoding"
   ],
   "metadata": {}
  },
  {
   "cell_type": "code",
   "execution_count": 11,
   "source": [
    "import category_encoders as ce\r\n",
    "\r\n",
    "# Convert discrete variables into multiple variables using one-hot encoding\r\n",
    "# Discrete columns: workclass, education, marital-status, occupation, relationship, sex, native-country\r\n",
    "encoder = ce.OneHotEncoder(cols=['workclass', 'education', 'marital-status', 'occupation', 'race', 'relationship'], use_cat_names=True)\r\n",
    "train_encoded_1 = encoder.fit_transform(dataset1_train)\r\n",
    "test_encoded_1 = encoder.transform(dataset1_test) \r\n",
    "\r\n",
    "names_1_encoded = train_encoded_1.columns"
   ],
   "outputs": [
    {
     "output_type": "error",
     "ename": "ModuleNotFoundError",
     "evalue": "No module named 'category_encoders'",
     "traceback": [
      "\u001b[1;31m---------------------------------------------------------------------------\u001b[0m",
      "\u001b[1;31mModuleNotFoundError\u001b[0m                       Traceback (most recent call last)",
      "\u001b[1;32m<ipython-input-11-78fb0b1e39a9>\u001b[0m in \u001b[0;36m<module>\u001b[1;34m\u001b[0m\n\u001b[1;32m----> 1\u001b[1;33m \u001b[1;32mimport\u001b[0m \u001b[0mcategory_encoders\u001b[0m \u001b[1;32mas\u001b[0m \u001b[0mce\u001b[0m\u001b[1;33m\u001b[0m\u001b[1;33m\u001b[0m\u001b[0m\n\u001b[0m\u001b[0;32m      2\u001b[0m \u001b[1;33m\u001b[0m\u001b[0m\n\u001b[0;32m      3\u001b[0m \u001b[1;31m# Convert discrete variables into multiple variables using one-hot encoding\u001b[0m\u001b[1;33m\u001b[0m\u001b[1;33m\u001b[0m\u001b[1;33m\u001b[0m\u001b[0m\n\u001b[0;32m      4\u001b[0m \u001b[1;31m# Discrete columns: workclass, education, marital-status, occupation, relationship, sex, native-country\u001b[0m\u001b[1;33m\u001b[0m\u001b[1;33m\u001b[0m\u001b[1;33m\u001b[0m\u001b[0m\n\u001b[0;32m      5\u001b[0m \u001b[0mencoder\u001b[0m \u001b[1;33m=\u001b[0m \u001b[0mce\u001b[0m\u001b[1;33m.\u001b[0m\u001b[0mOneHotEncoder\u001b[0m\u001b[1;33m(\u001b[0m\u001b[0mcols\u001b[0m\u001b[1;33m=\u001b[0m\u001b[1;33m[\u001b[0m\u001b[1;34m'workclass'\u001b[0m\u001b[1;33m,\u001b[0m \u001b[1;34m'education'\u001b[0m\u001b[1;33m,\u001b[0m \u001b[1;34m'marital-status'\u001b[0m\u001b[1;33m,\u001b[0m \u001b[1;34m'occupation'\u001b[0m\u001b[1;33m,\u001b[0m \u001b[1;34m'race'\u001b[0m\u001b[1;33m,\u001b[0m \u001b[1;34m'relationship'\u001b[0m\u001b[1;33m]\u001b[0m\u001b[1;33m,\u001b[0m \u001b[0muse_cat_names\u001b[0m\u001b[1;33m=\u001b[0m\u001b[1;32mTrue\u001b[0m\u001b[1;33m)\u001b[0m\u001b[1;33m\u001b[0m\u001b[1;33m\u001b[0m\u001b[0m\n",
      "\u001b[1;31mModuleNotFoundError\u001b[0m: No module named 'category_encoders'"
     ]
    }
   ],
   "metadata": {}
  },
  {
   "cell_type": "code",
   "execution_count": 12,
   "source": [
    "# Normalize\r\n",
    "from sklearn import preprocessing\r\n",
    "\r\n",
    "# Normalize training set\r\n",
    "x = train_encoded_1.values\r\n",
    "min_max_scaler = preprocessing.MinMaxScaler()\r\n",
    "x_scaled = min_max_scaler.fit_transform(x)\r\n",
    "normalized_dataset_1 = pd.DataFrame(x_scaled, columns=names_1_encoded)\r\n",
    "\r\n",
    "# Normalize test set\r\n",
    "x = test_encoded_1.values\r\n",
    "x_scaled = min_max_scaler.fit_transform(x)\r\n",
    "normalized_dataset_1_test = pd.DataFrame(x_scaled, columns=names_1_encoded)"
   ],
   "outputs": [
    {
     "output_type": "error",
     "ename": "NameError",
     "evalue": "name 'train_encoded_1' is not defined",
     "traceback": [
      "\u001b[1;31m---------------------------------------------------------------------------\u001b[0m",
      "\u001b[1;31mNameError\u001b[0m                                 Traceback (most recent call last)",
      "\u001b[1;32m<ipython-input-12-86c2c39b0993>\u001b[0m in \u001b[0;36m<module>\u001b[1;34m\u001b[0m\n\u001b[0;32m      3\u001b[0m \u001b[1;33m\u001b[0m\u001b[0m\n\u001b[0;32m      4\u001b[0m \u001b[1;31m# Normalize training set\u001b[0m\u001b[1;33m\u001b[0m\u001b[1;33m\u001b[0m\u001b[1;33m\u001b[0m\u001b[0m\n\u001b[1;32m----> 5\u001b[1;33m \u001b[0mx\u001b[0m \u001b[1;33m=\u001b[0m \u001b[0mtrain_encoded_1\u001b[0m\u001b[1;33m.\u001b[0m\u001b[0mvalues\u001b[0m\u001b[1;33m\u001b[0m\u001b[1;33m\u001b[0m\u001b[0m\n\u001b[0m\u001b[0;32m      6\u001b[0m \u001b[0mmin_max_scaler\u001b[0m \u001b[1;33m=\u001b[0m \u001b[0mpreprocessing\u001b[0m\u001b[1;33m.\u001b[0m\u001b[0mMinMaxScaler\u001b[0m\u001b[1;33m(\u001b[0m\u001b[1;33m)\u001b[0m\u001b[1;33m\u001b[0m\u001b[1;33m\u001b[0m\u001b[0m\n\u001b[0;32m      7\u001b[0m \u001b[0mx_scaled\u001b[0m \u001b[1;33m=\u001b[0m \u001b[0mmin_max_scaler\u001b[0m\u001b[1;33m.\u001b[0m\u001b[0mfit_transform\u001b[0m\u001b[1;33m(\u001b[0m\u001b[0mx\u001b[0m\u001b[1;33m)\u001b[0m\u001b[1;33m\u001b[0m\u001b[1;33m\u001b[0m\u001b[0m\n",
      "\u001b[1;31mNameError\u001b[0m: name 'train_encoded_1' is not defined"
     ]
    }
   ],
   "metadata": {}
  },
  {
   "cell_type": "markdown",
   "source": [
    "# Experiments\n"
   ],
   "metadata": {}
  },
  {
   "cell_type": "markdown",
   "source": [
    "## Cross Validation"
   ],
   "metadata": {}
  },
  {
   "cell_type": "code",
   "execution_count": null,
   "source": [
    "def cross_validate(n, n_folds=5):\r\n",
    "    #get the number of data samples in each split\r\n",
    "    n_val = n // n_folds\r\n",
    "    inds = np.random.permutation(n)\r\n",
    "    inds = []\r\n",
    "    for f in range(n_folds):\r\n",
    "        tr_inds = []\r\n",
    "        #get the validation indexes\r\n",
    "        val_inds = list(range(f * n_val, (f+1)*n_val))\r\n",
    "        #get the train indexes\r\n",
    "        if f > 0:\r\n",
    "            tr_inds = list(range(f*n_val))\r\n",
    "        if f < n_folds - 1:\r\n",
    "            tr_inds = tr_inds + list(range((f+1)*n_val, n))\r\n",
    "        #The yield statement suspends function’s execution and sends a value back to the caller\r\n",
    "        #but retains enough state information to enable function to resume where it is left off\r\n",
    "        yield tr_inds, val_inds\r\n",
    "\r\n",
    "accuracy= lambda y, yh: np.mean(y==yh)"
   ],
   "outputs": [],
   "metadata": {}
  },
  {
   "cell_type": "markdown",
   "source": [
    "## KNN"
   ],
   "metadata": {}
  },
  {
   "cell_type": "code",
   "execution_count": null,
   "source": [
    "# Split the data\r\n",
    "x, y = train_encoded_1.iloc[:,:-1].to_numpy(), train_encoded_1['over-50K'].to_numpy()\r\n",
    "x_train, x_test, y_train, y_test = train_test_split(x, y, test_size=0.15, shuffle=True)\r\n",
    "print(x_train.shape, x_test.shape)\r\n",
    "print(y_train.shape, y_test.shape)\r\n",
    "\r\n",
    "x_normalized, y_normalized = normalized_dataset_1.iloc[:,:-1].to_numpy(), normalized_dataset_1['over-50K'].to_numpy()\r\n",
    "x_normalized_train, x_normalized_test, y_normalized_train, y_normalized_test = train_test_split(x_normalized, y_normalized, test_size=0.15, shuffle=True)\r\n",
    "print(x_normalized_train.shape, x_normalized_test.shape)\r\n",
    "print(y_normalized_train.shape, y_normalized_test.shape)\r\n"
   ],
   "outputs": [
    {
     "output_type": "stream",
     "name": "stdout",
     "text": [
      "(25637, 60) (4525, 60)\n",
      "(25637,) (4525,)\n",
      "(25637, 60) (4525, 60)\n",
      "(25637,) (4525,)\n"
     ]
    }
   ],
   "metadata": {}
  },
  {
   "cell_type": "code",
   "execution_count": null,
   "source": [
    "# Note: This code is inspired from the sklearn tutorial\r\n",
    "\r\n",
    "n_neighbors = 1\r\n",
    "knn_model = neighbors.KNeighborsClassifier(n_neighbors=n_neighbors) # Initialize model\r\n",
    "knn_model.fit(x_train, y_train)\r\n",
    "\r\n",
    "# Predict\r\n",
    "y_pred = knn_model.predict(x_train)\r\n",
    "acc = np.mean(y_pred == y_train)\r\n",
    "\r\n",
    "print(f'{acc:.4f}') # Should be 100%"
   ],
   "outputs": [
    {
     "output_type": "stream",
     "name": "stdout",
     "text": [
      "0.9712\n"
     ]
    }
   ],
   "metadata": {}
  },
  {
   "cell_type": "code",
   "execution_count": null,
   "source": [
    "# Cross validation\r\n",
    "\r\n",
    "from sklearn.model_selection import cross_val_score\r\n",
    "knn_model = neighbors.KNeighborsClassifier(n_neighbors=1)\r\n",
    "scores    = cross_val_score(knn_model, x_train, y_train, cv=30)\r\n",
    "\r\n",
    "print(f'averaged {scores.mean():.3f} ± {scores.std():.3f} over {scores.shape[0]} trials')"
   ],
   "outputs": [
    {
     "output_type": "stream",
     "name": "stdout",
     "text": [
      "averaged 0.818 ± 0.010 over 30 trials\n"
     ]
    }
   ],
   "metadata": {}
  },
  {
   "cell_type": "code",
   "execution_count": null,
   "source": [
    "best_acc = 0\r\n",
    "for data, tag in zip((x_train, x_normalized_train), ('unnormalized', 'normalized')):\r\n",
    "\r\n",
    "  for n_neighbors in np.arange(1,20):\r\n",
    "\r\n",
    "    knn_model = neighbors.KNeighborsClassifier(n_neighbors=n_neighbors)\r\n",
    "    acc = cross_val_score(knn_model, data, y_train, cv=10).mean()\r\n",
    "\r\n",
    "    if acc > best_acc:\r\n",
    "      best_cfg = (tag, n_neighbors)\r\n",
    "      best_acc = acc\r\n",
    "      best_model = knn_model\r\n",
    "\r\n",
    "print(f'best cross validation accuracy : {best_acc:.3f} found with config {best_cfg}')"
   ],
   "outputs": [
    {
     "output_type": "stream",
     "name": "stdout",
     "text": [
      "best cross validation accuracy : 0.850 found with config ('unnormalized', 18)\n"
     ]
    }
   ],
   "metadata": {}
  },
  {
   "cell_type": "code",
   "execution_count": null,
   "source": [
    "# (num_instances, num_features) = x_train.shape\r\n",
    "\r\n",
    "# loss = lambda y, yh: np.mean((y-yh)**2)\r\n",
    "\r\n",
    "# #Plot the mean square error for different K values stored in K_list\r\n",
    "# K_list = range(1,30)\r\n",
    "# err_train, err_test = [], []\r\n",
    "# for i, K in enumerate(K_list):\r\n",
    "#     model = neighbors.KNeighborsRegressor(n_neighbors=K)\r\n",
    "#     model = model.fit(x_train, y_train)\r\n",
    "#     err_test.append(loss(model.predict(x_test), y_test))\r\n",
    "#     err_train.append(loss(model.predict(x_train), y_train))\r\n",
    "\r\n",
    "# plt.plot(K_list, err_test, '-', label='unseen')\r\n",
    "# plt.plot(K_list, err_train, '-', label='train')\r\n",
    "# plt.legend()\r\n",
    "# plt.xlabel('K (number of neighbours)')\r\n",
    "# plt.ylabel('mean squared error')\r\n",
    "# plt.show()"
   ],
   "outputs": [],
   "metadata": {}
  },
  {
   "cell_type": "markdown",
   "source": [
    "## Decision Tree"
   ],
   "metadata": {}
  },
  {
   "cell_type": "markdown",
   "source": [
    "## Evaluating best split criterion without max depth limitation"
   ],
   "metadata": {}
  },
  {
   "cell_type": "code",
   "execution_count": null,
   "source": [
    "from sklearn.model_selection import cross_val_score\r\n",
    "from sklearn import tree\r\n",
    "\r\n",
    "#Find best split criteria\r\n",
    "\r\n",
    "def find_best_crit(n_val,x_rest,y_rest,x_test,y_test,title):\r\n",
    "        criteria_list=[\"gini\", \"entropy\"] \r\n",
    "        acc_train,acc_valid = np.zeros(len(criteria_list)), np.zeros((len(criteria_list), n_folds))\r\n",
    "\r\n",
    "        model = tree.DecisionTreeClassifier()\r\n",
    "        model = model.fit(x_rest, y_rest)\r\n",
    "        acc_train[0]= accuracy(y_rest, model.predict(x_rest))\r\n",
    "\r\n",
    "\r\n",
    "        for f, (tr, val) in enumerate(cross_validate(n_val, n_folds)):\r\n",
    "                model = tree.DecisionTreeClassifier()\r\n",
    "                model = model.fit(x_test[tr,:], y_test[tr])\r\n",
    "                acc_valid[0,f] = accuracy(y_test[val], model.predict(x_test[val])) \r\n",
    "\r\n",
    "\r\n",
    "        model = tree.DecisionTreeClassifier(criterion=\"entropy\")\r\n",
    "        model = model.fit(x_rest, y_rest)\r\n",
    "        acc_train[1]= accuracy(y_rest, model.predict(x_rest))\r\n",
    "\r\n",
    "        for f, (tr, val) in enumerate(cross_validate(n_val, n_folds)):\r\n",
    "                model = tree.DecisionTreeClassifier(criterion=\"entropy\")\r\n",
    "                model = model.fit(x_test[tr,:], y_test[tr])\r\n",
    "                acc_valid[1,f] = accuracy(y_test[val], model.predict(x_test[val])) \r\n",
    "\r\n",
    "\r\n",
    "\r\n",
    "        x=[1,2]\r\n",
    "\r\n",
    "        plt.subplot(1,2,1)\r\n",
    "        plt.scatter(x,acc_train, label='training')\r\n",
    "        plt.xlabel('Gini Index=1                Entropy=2')\r\n",
    "        plt.ylabel('Accuracy')\r\n",
    "        plt.title('Training')\r\n",
    "\r\n",
    "        plt.subplot(1,2,2)\r\n",
    "        plt.scatter(x,np.mean(acc_valid, axis=1),label='validation')\r\n",
    "        #plt.errorbar(criteria_list, np.mean(err_valid, axis=1), np.std(err_valid, axis=1), label='Validation')\r\n",
    "        plt.title('Validation')\r\n",
    "        plt.xlabel('Gini Index=1                Entropy=2')\r\n",
    "        plt.ylabel('Accuracy')\r\n",
    "\r\n",
    "        plt.tight_layout(pad=5)\r\n",
    "        plt.show()\r\n",
    "        plt.title(title)"
   ],
   "outputs": [],
   "metadata": {}
  },
  {
   "cell_type": "markdown",
   "source": [
    "## Evaluating best max depth limitation with Gini index"
   ],
   "metadata": {}
  },
  {
   "cell_type": "code",
   "execution_count": null,
   "source": [
    "from sklearn import tree\r\n",
    "\r\n",
    "\r\n",
    "#Find best max depth using Gini index\r\n",
    "\r\n",
    "def find_maxD_gini(n_val,x_rest,y_rest,x_test,y_test,title):\r\n",
    "    max_depth=range(4,8)\r\n",
    "\r\n",
    "    acc_train,acc_valid = np.zeros(len(max_depth)), np.zeros((len(max_depth), n_folds))\r\n",
    "\r\n",
    "\r\n",
    "    for i, d in enumerate(max_depth):\r\n",
    "        #Find the validation errors for num_folds splits for a given max_depth\r\n",
    "        model = tree.DecisionTreeClassifier(criterion='gini',max_depth=d)\r\n",
    "        model = model.fit(x_rest, y_rest)\r\n",
    "        acc_train[i]= accuracy(y_rest, model.predict(x_rest))\r\n",
    "        for f, (tr, val) in enumerate(cross_validate(n_val, n_folds)):\r\n",
    "            model = tree.DecisionTreeClassifier(criterion='gini',max_depth=d)\r\n",
    "            model = model.fit(x_test[tr,:], y_test[tr])\r\n",
    "            acc_valid[i, f] = accuracy(y_test[val], model.predict(x_test[val])) \r\n",
    "    \r\n",
    "    plt.plot(max_depth, acc_train,  label='Train')\r\n",
    "    plt.errorbar(max_depth, np.mean(acc_valid, axis=1), np.std(acc_valid, axis=1), label='Validation')\r\n",
    "    plt.legend()\r\n",
    "    plt.xlabel('Max depth')\r\n",
    "    plt.ylabel('Accuracy')\r\n",
    "    plt.show()"
   ],
   "outputs": [],
   "metadata": {}
  },
  {
   "cell_type": "markdown",
   "source": [
    "## Evaluating best max depth limitation with Entropy "
   ],
   "metadata": {}
  },
  {
   "cell_type": "code",
   "execution_count": null,
   "source": [
    "from sklearn import tree\r\n",
    "\r\n",
    "#Find best max depth using Gini index\r\n",
    "\r\n",
    "def find_minsamp_entropy(n_val,x_train,y_train,x_val,y_val,title):\r\n",
    "    max_depth=range(4,8)\r\n",
    "\r\n",
    "    acc_train,acc_valid = np.zeros(len(max_depth)), np.zeros((len(max_depth), n_folds))\r\n",
    "\r\n",
    "    #Evaluating value for max depth\r\n",
    "    for i, d in enumerate(max_depth):\r\n",
    "        #Find the validation errors for num_folds splits for a max_depth\r\n",
    "        model = tree.DecisionTreeClassifier(criterion='entropy',max_depth=d)\r\n",
    "        model = model.fit(x_rest, y_rest)\r\n",
    "        acc_train[i]= accuracy(y_rest, model.predict(x_rest))\r\n",
    "        for f, (tr, val) in enumerate(cross_validate(n_val, n_folds)):\r\n",
    "            model = tree.DecisionTreeClassifier(criterion='entropy',max_depth=d)\r\n",
    "            model = model.fit(x_test[tr,:], y_test[tr])\r\n",
    "            acc_valid[i, f] = accuracy(y_test[val], model.predict(x_test[val])) \r\n",
    "    \r\n",
    "    plt.plot(max_depth, acc_train,  label='Train')\r\n",
    "    plt.errorbar(max_depth, np.mean(acc_valid, axis=1), np.std(acc_valid, axis=1), label='Validation')\r\n",
    "    plt.legend()\r\n",
    "    plt.xlabel('Max depth')\r\n",
    "    plt.ylabel('Accuracy')\r\n",
    "    plt.show()"
   ],
   "outputs": [],
   "metadata": {}
  },
  {
   "cell_type": "markdown",
   "source": [
    "## Evaluating the best minimum number of samples using Entropy"
   ],
   "metadata": {}
  },
  {
   "cell_type": "code",
   "execution_count": null,
   "source": [
    "#Find best min number of samples using Entropy\r\n",
    "\r\n",
    "def find_minsamp_entrop(n_val,x_train,y_train,x_val,y_val,title):\r\n",
    "    min_sample=range(3,8)\r\n",
    "\r\n",
    "    acc_train,acc_valid = np.zeros(len(min_sample)), np.zeros((len(min_sample), n_folds))\r\n",
    "\r\n",
    "    #Evaluating value for max depth\r\n",
    "    for i, d in enumerate(min_sample):\r\n",
    "        #Find the validation errors for num_folds splits for a max_depth\r\n",
    "        model = tree.DecisionTreeClassifier(criterion='entropy',max_depth=d)\r\n",
    "        model = model.fit(x_rest, y_rest)\r\n",
    "        acc_train[i]= accuracy(y_rest, model.predict(x_rest))\r\n",
    "        for f, (tr, val) in enumerate(cross_validate(n_val, n_folds)):\r\n",
    "            model = tree.DecisionTreeClassifier(criterion='entropy',max_depth=d)\r\n",
    "            model = model.fit(x_test[tr,:], y_test[tr])\r\n",
    "            acc_valid[i, f] = accuracy(y_test[val], model.predict(x_test[val])) \r\n",
    "    \r\n",
    "    plt.plot(min_sample, acc_train,  label='Train')\r\n",
    "    plt.errorbar(min_sample, np.mean(acc_valid, axis=1), np.std(acc_valid, axis=1), label='Validation')\r\n",
    "    plt.legend()\r\n",
    "    plt.xlabel('Max depth')\r\n",
    "    plt.ylabel('Accuracy')\r\n",
    "    plt.show()"
   ],
   "outputs": [],
   "metadata": {}
  }
 ],
 "metadata": {
  "interpreter": {
   "hash": "d91d287463a4cb39829cd484eec94a97d80410c729d084409e1297ac9d4efe97"
  },
  "kernelspec": {
   "name": "python3",
   "display_name": "Python 3.8.8 64-bit ('base': conda)"
  },
  "language_info": {
   "codemirror_mode": {
    "name": "ipython",
    "version": 3
   },
   "file_extension": ".py",
   "mimetype": "text/x-python",
   "name": "python",
   "nbconvert_exporter": "python",
   "pygments_lexer": "ipython3",
   "version": "3.8.8"
  }
 },
 "nbformat": 4,
 "nbformat_minor": 2
}