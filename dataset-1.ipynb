{
 "cells": [
  {
   "cell_type": "markdown",
   "source": [
    "# Preprocessing and visualization of Dataset #1: Adults"
   ],
   "metadata": {}
  },
  {
   "cell_type": "code",
   "execution_count": null,
   "source": [
    "import numpy as np\n",
    "import pandas as pd\n",
    "import matplotlib.pyplot as plt\n",
    "import sklearn\n",
    "from sklearn.model_selection import train_test_split"
   ],
   "outputs": [],
   "metadata": {}
  },
  {
   "cell_type": "code",
   "execution_count": null,
   "source": [
    "# 1. Load the datasets into Pandas dataframes\n",
    "names1=['age', 'workclass', 'fnlwgt', 'education', 'education-num', 'marital-status', 'occupation', 'relationship', 'race', 'sex', 'capital-gain', 'capital-loss', 'hours-per-week', 'native-country', 'over-50K']\n",
    "dataset1_train = pd.read_csv('adult_train.csv', index_col=False, names=names1, sep=',\\s', na_values=['?'], engine='python')\n",
    "dataset1_test = pd.read_csv('adult_test.csv', index_col=False, names=names1, sep=',\\s', na_values=['?'], engine='python')\n",
    "\n",
    "print(dataset1_train.shape)"
   ],
   "outputs": [],
   "metadata": {}
  },
  {
   "cell_type": "markdown",
   "source": [
    "## Clean the data"
   ],
   "metadata": {}
  },
  {
   "cell_type": "code",
   "execution_count": null,
   "source": [
    "# Remove instances with missing/invalid data entries\n",
    "dataset1_train.dropna(axis=0, how='any', inplace=True)\n",
    "print(dataset1_train.shape)"
   ],
   "outputs": [],
   "metadata": {}
  },
  {
   "cell_type": "code",
   "execution_count": null,
   "source": [
    "# Encode Over 50K as 1\n",
    "dataset1_train['over-50K'] = dataset1_train['over-50K'].map({'>50K': 1, '<=50K': 0})\n",
    "dataset1_test['over-50K'] = dataset1_test['over-50K'].map({'>50K': 1, '<=50K': 0})\n",
    "\n",
    "# Encode Male as 1\n",
    "dataset1_train['sex'] = dataset1_train['sex'].map({'Male': 1, 'Female': 0})\n",
    "dataset1_test['sex'] = dataset1_test['sex'].map({'Male': 1, 'Female': 0})"
   ],
   "outputs": [],
   "metadata": {}
  },
  {
   "cell_type": "code",
   "execution_count": null,
   "source": [
    "print(dataset1_train['native-country'].describe()) "
   ],
   "outputs": [],
   "metadata": {}
  },
  {
   "cell_type": "markdown",
   "source": [
    "Since 91% of native-country data is US, we will categorize this column as \"US\" and \"non-US\"."
   ],
   "metadata": {}
  },
  {
   "cell_type": "code",
   "execution_count": null,
   "source": [
    "# Encode US as 1 and non-US as 0\n",
    "dataset1_train['native-country'] = np.where(dataset1_train['native-country']=='United-States', 1, 0)"
   ],
   "outputs": [],
   "metadata": {}
  },
  {
   "cell_type": "code",
   "execution_count": null,
   "source": [
    "# Correlation\n",
    "correlations = dataset1_train.corr(method=\"pearson\")"
   ],
   "outputs": [],
   "metadata": {}
  },
  {
   "cell_type": "markdown",
   "source": [
    "From the above correlations, we can interpret that 'fnlgwt' and 'native-country' are not relevant to predicting the salary as their correlation is below 0.09."
   ],
   "metadata": {}
  },
  {
   "cell_type": "code",
   "execution_count": null,
   "source": [
    "# Remove uncorrelated columns\n",
    "dataset1_train = dataset1_train.drop(columns=['fnlwgt', 'native-country'])\n",
    "dataset1_test = dataset1_test.drop(columns=['fnlwgt', 'native-country'])"
   ],
   "outputs": [],
   "metadata": {}
  },
  {
   "cell_type": "code",
   "execution_count": null,
   "source": [
    "# Visualize age distribution\n",
    "dataset1_train.age.plot(kind='kde')\n",
    "plt.title('Age distribution')\n",
    "plt.show()\n",
    "\n",
    "# Visualize all numerical categories\n",
    "dataset1_train.hist(figsize=(20, 14))"
   ],
   "outputs": [],
   "metadata": {}
  },
  {
   "cell_type": "code",
   "execution_count": null,
   "source": [
    "# Visualize categorical data\n",
    "dataset1_train['education'].value_counts()\n",
    "pd.crosstab(dataset1_train['education-num'], columns=dataset1_train['education'])\n",
    "print(dataset1_train.shape)\n",
    "\n",
    "# Remove education-num as it gives no more information than education\n",
    "dataset1_train = dataset1_train.drop(columns='education-num')\n",
    "dataset1_test = dataset1_test.drop(columns='education-num')\n",
    "print(dataset1_train.shape)"
   ],
   "outputs": [],
   "metadata": {}
  },
  {
   "cell_type": "markdown",
   "source": [
    "## One-hot encoding"
   ],
   "metadata": {}
  },
  {
   "cell_type": "code",
   "execution_count": null,
   "source": [
    "import category_encoders as ce\n",
    "\n",
    "# Convert discrete variables into multiple variables using one-hot encoding\n",
    "# Discrete columns: workclass, education, marital-status, occupation, relationship, sex, native-country\n",
    "encoder = ce.OneHotEncoder(cols=['workclass', 'education', 'marital-status', 'occupation', 'race', 'relationship'], use_cat_names=True)\n",
    "train_encoded_1 = encoder.fit_transform(dataset1_train)\n",
    "test_encoded_1 = encoder.transform(dataset1_test) \n",
    "\n",
    "names_1_encoded = train_encoded_1.columns"
   ],
   "outputs": [],
   "metadata": {}
  },
  {
   "cell_type": "code",
   "execution_count": null,
   "source": [
    "# Normalize\n",
    "from sklearn import preprocessing\n",
    "\n",
    "# Normalize age data\n",
    "x = train_encoded_1.values\n",
    "min_max_scaler = preprocessing.MinMaxScaler()\n",
    "x_scaled = min_max_scaler.fit_transform(x)\n",
    "normalized_dataset_1 = pd.DataFrame(x_scaled, columns=names_1_encoded)"
   ],
   "outputs": [],
   "metadata": {}
  },
  {
   "cell_type": "markdown",
   "source": [
    "# Preprocessing Dataset #2"
   ],
   "metadata": {}
  },
  {
   "cell_type": "markdown",
   "source": [
    "## Import the data"
   ],
   "metadata": {}
  },
  {
   "cell_type": "code",
   "execution_count": null,
   "source": [
    "import pandas as pd\n",
    "\n",
    "# 1. Load the datasets into Pandas dataframes\n",
    "names2=['A1-Time','A2','A3','A4','A5','A6','A7','A8','A9','LABEL']\n",
    "dataset2 = pd.read_csv('shuttle_trn.csv', index_col=False, names=names2, sep=' ', engine='python')\n",
    "print(dataset2)"
   ],
   "outputs": [],
   "metadata": {}
  },
  {
   "cell_type": "markdown",
   "source": [
    "## Clean the data"
   ],
   "metadata": {}
  },
  {
   "cell_type": "code",
   "execution_count": null,
   "source": [
    "# Data is complete, i.e., no missing cells\n",
    "# Attributes are undefined, therefore all will be kept and be given the same weight"
   ],
   "outputs": [],
   "metadata": {}
  },
  {
   "cell_type": "markdown",
   "source": [
    "## Visulization"
   ],
   "metadata": {}
  },
  {
   "cell_type": "code",
   "execution_count": null,
   "source": [
    "# Visualizing data to have a better idea of the data\n",
    "# Plotting frequency of different attribute values since there are only 9 (+ 1 for assigned labels)\n",
    "import matplotlib.pyplot as plt"
   ],
   "outputs": [],
   "metadata": {}
  },
  {
   "cell_type": "code",
   "execution_count": null,
   "source": [
    "plt.hist(dataset2['A1-Time'], histtype='bar')\n",
    "plt.title(\"A1-Time\")"
   ],
   "outputs": [],
   "metadata": {}
  },
  {
   "cell_type": "code",
   "execution_count": null,
   "source": [
    "plt.hist(dataset2['A2'], histtype='bar')\n",
    "plt.title(\"A2\")"
   ],
   "outputs": [],
   "metadata": {}
  },
  {
   "cell_type": "code",
   "execution_count": null,
   "source": [
    "plt.hist(dataset2['A3'], histtype='bar')\n",
    "plt.title(\"A3\")"
   ],
   "outputs": [],
   "metadata": {}
  },
  {
   "cell_type": "code",
   "execution_count": null,
   "source": [
    "plt.hist(dataset2['A4'], histtype='bar')\n",
    "plt.title(\"A4\")"
   ],
   "outputs": [],
   "metadata": {}
  },
  {
   "cell_type": "code",
   "execution_count": null,
   "source": [
    "plt.hist(dataset2['A5'], histtype='bar')\n",
    "plt.title(\"A5\")"
   ],
   "outputs": [],
   "metadata": {}
  },
  {
   "cell_type": "code",
   "execution_count": null,
   "source": [
    "plt.hist(dataset2['A6'], histtype='bar')\n",
    "plt.title(\"A6\")"
   ],
   "outputs": [],
   "metadata": {}
  },
  {
   "cell_type": "code",
   "execution_count": null,
   "source": [
    "plt.hist(dataset2['A7'], histtype='bar')\n",
    "plt.title(\"A7\")"
   ],
   "outputs": [],
   "metadata": {}
  },
  {
   "cell_type": "code",
   "execution_count": null,
   "source": [
    "plt.hist(dataset2['A8'], histtype='bar')\n",
    "plt.title(\"A8\")"
   ],
   "outputs": [],
   "metadata": {}
  },
  {
   "cell_type": "code",
   "execution_count": null,
   "source": [
    "plt.hist(dataset2['A9'], histtype='bar')\n",
    "plt.title(\"A9\")"
   ],
   "outputs": [],
   "metadata": {}
  },
  {
   "cell_type": "code",
   "execution_count": null,
   "source": [
    "plt.hist(dataset2['LABEL'], histtype='bar')\n",
    "plt.title(\"LABEL\")"
   ],
   "outputs": [],
   "metadata": {}
  },
  {
   "cell_type": "markdown",
   "source": [
    "## One-hot coding"
   ],
   "metadata": {}
  },
  {
   "cell_type": "code",
   "execution_count": null,
   "source": [
    "# No need for one-hot coding since all attributes and labels are numerical values"
   ],
   "outputs": [],
   "metadata": {}
  }
 ],
 "metadata": {
  "interpreter": {
   "hash": "aee8b7b246df8f9039afb4144a1f6fd8d2ca17a180786b69acc140d282b71a49"
  },
  "kernelspec": {
   "name": "python3",
   "display_name": "Python 3.9.7 64-bit"
  },
  "language_info": {
   "codemirror_mode": {
    "name": "ipython",
    "version": 3
   },
   "file_extension": ".py",
   "mimetype": "text/x-python",
   "name": "python",
   "nbconvert_exporter": "python",
   "pygments_lexer": "ipython3",
   "version": "3.9.7"
  }
 },
 "nbformat": 4,
 "nbformat_minor": 2
}