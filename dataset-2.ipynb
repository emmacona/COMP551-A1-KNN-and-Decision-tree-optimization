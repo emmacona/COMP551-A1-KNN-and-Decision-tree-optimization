{
 "cells": [
  {
   "cell_type": "markdown",
   "source": [
    "# Preprocessing Dataset #2"
   ],
   "metadata": {}
  },
  {
   "cell_type": "code",
   "execution_count": 1,
   "source": [
    "\n",
    "## Import the data\n",
    "import pandas as pd\n"
   ],
   "outputs": [],
   "metadata": {}
  },
  {
   "cell_type": "code",
   "execution_count": 2,
   "source": [
    "# 1. Load the datasets into Pandas dataframes\n",
    "names2=['A1-Time','A2','A3','A4','A5','A6','A7','A8','A9','LABEL']\n",
    "dataset2 = pd.read_csv('shuttle_trn.csv', index_col=False, names=names2, sep=' ', engine='python')\n",
    "print(dataset2)"
   ],
   "outputs": [
    {
     "output_type": "stream",
     "name": "stdout",
     "text": [
      "       A1-Time  A2   A3  A4  A5  A6  A7  A8  A9  LABEL\n",
      "0           50  21   77   0  28   0  27  48  22      2\n",
      "1           55   0   92   0   0  26  36  92  56      4\n",
      "2           53   0   82   0  52  -5  29  30   2      1\n",
      "3           37   0   76   0  28  18  40  48   8      1\n",
      "4           37   0   79   0  34 -26  43  46   2      1\n",
      "...        ...  ..  ...  ..  ..  ..  ..  ..  ..    ...\n",
      "43495       46   5   78   0  46   5  32  32   0      1\n",
      "43496       37   0   79  -1  10   3  43  69  26      1\n",
      "43497       48   0   78   3  46   0  30  32   2      1\n",
      "43498       41   0   79   0  38 -25  38  40   2      1\n",
      "43499       40  -3  100   0  38   0  61  62   2      1\n",
      "\n",
      "[43500 rows x 10 columns]\n"
     ]
    }
   ],
   "metadata": {}
  },
  {
   "cell_type": "markdown",
   "source": [
    "\n",
    "## Clean the data\n",
    "\n",
    "Data is complete, i.e., no missing cells\n",
    "Attributes are undefined, therefore all will be kept and be given the same weight\n"
   ],
   "metadata": {}
  },
  {
   "cell_type": "markdown",
   "source": [
    "## Visulization"
   ],
   "metadata": {}
  },
  {
   "cell_type": "code",
   "execution_count": 3,
   "source": [
    "# Visualizing data to have a better idea of the data\n",
    "# Plotting frequency of different attribute values since there are only 9 (+ 1 for assigned labels)\n",
    "import matplotlib.pyplot as plt\n",
    "plt.hist(dataset2['A1-Time'], histtype='bar')\n",
    "plt.title(\"A1-Time\")\n",
    "plt.hist(dataset2['A2'], histtype='bar')\n",
    "plt.title(\"A2\")\n",
    "plt.hist(dataset2['A3'], histtype='bar')\n",
    "plt.title(\"A3\")\n",
    "plt.hist(dataset2['A4'], histtype='bar')\n",
    "plt.title(\"A4\")\n",
    "plt.hist(dataset2['A5'], histtype='bar')\n",
    "plt.title(\"A5\")\n",
    "plt.hist(dataset2['A6'], histtype='bar')\n",
    "plt.title(\"A6\")\n",
    "plt.hist(dataset2['A7'], histtype='bar')\n",
    "plt.title(\"A7\")\n",
    "plt.hist(dataset2['A8'], histtype='bar')\n",
    "plt.title(\"A8\")\n",
    "plt.hist(dataset2['A9'], histtype='bar')\n",
    "plt.title(\"A9\")\n",
    "plt.hist(dataset2['LABEL'], histtype='bar')\n",
    "plt.title(\"LABEL\")"
   ],
   "outputs": [
    {
     "output_type": "execute_result",
     "data": {
      "text/plain": [
       "Text(0.5, 1.0, 'LABEL')"
      ]
     },
     "metadata": {},
     "execution_count": 3
    },
    {
     "output_type": "display_data",
     "data": {
      "image/png": "[encoded data removed]",
      "text/plain": [
       "<Figure size 432x288 with 1 Axes>"
      ]
     },
     "metadata": {
      "needs_background": "light"
     }
    }
   ],
   "metadata": {}
  },
  {
   "cell_type": "markdown",
   "source": [
    "## One-hot coding\n",
    "# No need for one-hot coding since all attributes and labels are numerical values"
   ],
   "metadata": {}
  }
 ],
 "metadata": {
  "orig_nbformat": 4,
  "language_info": {
   "name": "python",
   "version": "3.9.7",
   "mimetype": "text/x-python",
   "codemirror_mode": {
    "name": "ipython",
    "version": 3
   },
   "pygments_lexer": "ipython3",
   "nbconvert_exporter": "python",
   "file_extension": ".py"
  },
  "kernelspec": {
   "name": "python3",
   "display_name": "Python 3.9.7 64-bit"
  },
  "interpreter": {
   "hash": "aee8b7b246df8f9039afb4144a1f6fd8d2ca17a180786b69acc140d282b71a49"
  }
 },
 "nbformat": 4,
 "nbformat_minor": 2
}