{
 "cells": [
  {
   "cell_type": "markdown",
   "source": [
    "# Preprocessing Dataset #1: Adults"
   ],
   "metadata": {}
  },
  {
   "cell_type": "code",
   "execution_count": null,
   "source": [
    "# age: continuous.\n",
    "# workclass: Private, Self-emp-not-inc, Self-emp-inc, Federal-gov, Local-gov, State-gov, Without-pay, Never-worked.\n",
    "# fnlwgt: continuous.\n",
    "# education: Bachelors, Some-college, 11th, HS-grad, Prof-school, Assoc-acdm, Assoc-voc, 9th, 7th-8th, 12th, Masters, 1st-4th, 10th, Doctorate, 5th-6th, Preschool.\n",
    "# education-num: continuous.\n",
    "# marital-status: Married-civ-spouse, Divorced, Never-married, Separated, Widowed, Married-spouse-absent, Married-AF-spouse.\n",
    "# occupation: Tech-support, Craft-repair, Other-service, Sales, Exec-managerial, Prof-specialty, Handlers-cleaners, Machine-op-inspct, Adm-clerical, Farming-fishing, Transport-moving, Priv-house-serv, Protective-serv, Armed-Forces.\n",
    "# relationship: Wife, Own-child, Husband, Not-in-family, Other-relative, Unmarried.\n",
    "# race: White, Asian-Pac-Islander, Amer-Indian-Eskimo, Other, Black.\n",
    "# sex: Female, Male.\n",
    "# capital-gain: continuous.\n",
    "# capital-loss: continuous.\n",
    "# hours-per-week: continuous.\n",
    "# native-country: United-States, Cambodia, England, Puerto-Rico, Canada, Germany, Outlying-US(Guam-USVI-etc), India, Japan, Greece, South, China, Cuba, Iran, Honduras, Philippines, Italy, Poland, Jamaica, Vietnam, Mexico, Portugal, Ireland, France, Dominican-Republic, Laos, Ecuador, Taiwan, Haiti, Columbia, Hungary, Guatemala, Nicaragua, Scotland, Thailand, Yugoslavia, El-Salvador, Trinadad&Tobago, Peru, Hong, Holand-Netherlands.\""
   ],
   "outputs": [],
   "metadata": {}
  },
  {
   "cell_type": "code",
   "execution_count": 36,
   "source": [
    "from sklearn.preprocessing import LabelBinarizer\n",
    "import numpy as np\n",
    "import pandas as pd\n",
    "import matplotlib as mpt \n",
    "\n",
    "# 1. Load the datasets into Pandas dataframes\n",
    "dataset1 = pd.read_csv('adult.csv', index_col=False, names=['age', 'workclass', 'fnlwgt', 'education', 'education-num', 'marital-status', 'occupation', 'relationship', 'race', 'sex', 'capital-gain', 'capital-loss', 'hours-per-week', 'native-country', 'over-50K'])\n",
    "\n",
    "# 2. Clean the data\n",
    "# Replace missing values with np.nan\n",
    "dataset1.loc[dataset1['age'] == 0, 'age'] = np.nan\n",
    "\n",
    "# Remove instances with missing/invalid data entries\n",
    "dataset1.dropna(axis=0, how='any')\n",
    "\n",
    "\n",
    "# 2.2 Convert discrete variables into multiple variables using one-hot encoding\n",
    "# dataset1['workclass'] = dataset1['workclass'].map({\n",
    "#   'Private': '1000000',\n",
    "#   'Self-emp-not-inc': '0100000',\n",
    "#   'Self-emp-inc': '0010000',\n",
    "#   'Federal-gov': '0001000',\n",
    "#   'Local-gov': '0000100',EWn\n",
    "#   'State-gov': '0000010',\n",
    "#   'Without-pay': '0000001',\n",
    "#   'Never-worked': '0000000',\n",
    "# }.get)\n",
    "\n",
    "y = LabelBinarizer().fit_transform(dataset1.workclass)\n",
    "print(y)\n",
    "\n"
   ],
   "outputs": [
    {
     "output_type": "stream",
     "name": "stdout",
     "text": [
      "[[0 0 0 ... 0 1 0]\n",
      " [0 0 0 ... 1 0 0]\n",
      " [0 0 0 ... 0 0 0]\n",
      " ...\n",
      " [0 0 0 ... 0 0 0]\n",
      " [0 0 0 ... 0 0 0]\n",
      " [0 0 0 ... 0 0 0]]\n"
     ]
    }
   ],
   "metadata": {}
  },
  {
   "cell_type": "code",
   "execution_count": 18,
   "source": [
    "# Split into training, validation, and tests"
   ],
   "outputs": [],
   "metadata": {}
  }
 ],
 "metadata": {
  "orig_nbformat": 4,
  "language_info": {
   "name": "python",
   "version": "3.9.7",
   "mimetype": "text/x-python",
   "codemirror_mode": {
    "name": "ipython",
    "version": 3
   },
   "pygments_lexer": "ipython3",
   "nbconvert_exporter": "python",
   "file_extension": ".py"
  },
  "kernelspec": {
   "name": "python3",
   "display_name": "Python 3.9.6 64-bit"
  },
  "interpreter": {
   "hash": "aee8b7b246df8f9039afb4144a1f6fd8d2ca17a180786b69acc140d282b71a49"
  }
 },
 "nbformat": 4,
 "nbformat_minor": 2
}